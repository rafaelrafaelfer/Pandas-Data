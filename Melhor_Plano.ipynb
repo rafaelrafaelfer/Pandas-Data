{
  "nbformat": 4,
  "nbformat_minor": 0,
  "metadata": {
    "colab": {
      "name": "Melhor Plano.ipynb",
      "provenance": [],
      "authorship_tag": "ABX9TyNedwhOkOJeWEBhdLmsfNub",
      "include_colab_link": true
    },
    "kernelspec": {
      "name": "python3",
      "display_name": "Python 3"
    },
    "language_info": {
      "name": "python"
    }
  },
  "cells": [
    {
      "cell_type": "markdown",
      "metadata": {
        "id": "view-in-github",
        "colab_type": "text"
      },
      "source": [
        "<a href=\"https://colab.research.google.com/github/rafaelrafaelfer/Pandas-Data/blob/main/Melhor_Plano.ipynb\" target=\"_parent\"><img src=\"https://colab.research.google.com/assets/colab-badge.svg\" alt=\"Open In Colab\"/></a>"
      ]
    },
    {
      "cell_type": "code",
      "metadata": {
        "id": "BpUJ_wxTSWjR"
      },
      "source": [
        "#importando bibliotecas\n",
        "import pandas as pd"
      ],
      "execution_count": null,
      "outputs": []
    },
    {
      "cell_type": "code",
      "metadata": {
        "id": "tRrphJHHSdDV"
      },
      "source": [
        "# lendo o excel e colocando a coluna url como indice\n",
        "df = pd.read_excel(\"/content/Desafio Análise de Dados e SEO Melhor Plano (1).xlsx\",\n",
        "                index_col='url')"
      ],
      "execution_count": null,
      "outputs": []
    },
    {
      "cell_type": "code",
      "metadata": {
        "colab": {
          "base_uri": "https://localhost:8080/",
          "height": 376
        },
        "id": "2vnF_bxslpHl",
        "outputId": "4f8c5dc9-7bd5-4158-f52b-73623b9f72e6"
      },
      "source": [
        "#verificando o arquivo lido\n",
        "df.head()"
      ],
      "execution_count": null,
      "outputs": [
        {
          "output_type": "execute_result",
          "data": {
            "text/html": [
              "<div>\n",
              "<style scoped>\n",
              "    .dataframe tbody tr th:only-of-type {\n",
              "        vertical-align: middle;\n",
              "    }\n",
              "\n",
              "    .dataframe tbody tr th {\n",
              "        vertical-align: top;\n",
              "    }\n",
              "\n",
              "    .dataframe thead th {\n",
              "        text-align: right;\n",
              "    }\n",
              "</style>\n",
              "<table border=\"1\" class=\"dataframe\">\n",
              "  <thead>\n",
              "    <tr style=\"text-align: right;\">\n",
              "      <th></th>\n",
              "      <th>clicks</th>\n",
              "      <th>impressions</th>\n",
              "      <th>ctr</th>\n",
              "      <th>position</th>\n",
              "      <th>clicks_previous</th>\n",
              "      <th>impressions_previous</th>\n",
              "      <th>ctr_previous</th>\n",
              "      <th>position_previous</th>\n",
              "      <th>clickoffs_previous</th>\n",
              "      <th>clickoffs</th>\n",
              "      <th>silo</th>\n",
              "    </tr>\n",
              "    <tr>\n",
              "      <th>url</th>\n",
              "      <th></th>\n",
              "      <th></th>\n",
              "      <th></th>\n",
              "      <th></th>\n",
              "      <th></th>\n",
              "      <th></th>\n",
              "      <th></th>\n",
              "      <th></th>\n",
              "      <th></th>\n",
              "      <th></th>\n",
              "      <th></th>\n",
              "    </tr>\n",
              "  </thead>\n",
              "  <tbody>\n",
              "    <tr>\n",
              "      <th>/agtnet</th>\n",
              "      <td>256.0</td>\n",
              "      <td>840</td>\n",
              "      <td>0.035881</td>\n",
              "      <td>6.534267</td>\n",
              "      <td>242.0</td>\n",
              "      <td>33217.0</td>\n",
              "      <td>0.044211</td>\n",
              "      <td>22.166461</td>\n",
              "      <td>30.0</td>\n",
              "      <td>204.0</td>\n",
              "      <td>regionais</td>\n",
              "    </tr>\n",
              "    <tr>\n",
              "      <th>/algar-telecom</th>\n",
              "      <td>1.0</td>\n",
              "      <td>3215</td>\n",
              "      <td>0.007190</td>\n",
              "      <td>54.522420</td>\n",
              "      <td>13.0</td>\n",
              "      <td>7416.0</td>\n",
              "      <td>0.000226</td>\n",
              "      <td>9.394839</td>\n",
              "      <td>NaN</td>\n",
              "      <td>NaN</td>\n",
              "      <td>regionais</td>\n",
              "    </tr>\n",
              "    <tr>\n",
              "      <th>/algar-telecom/algar-telecom-2-via</th>\n",
              "      <td>850.0</td>\n",
              "      <td>16462</td>\n",
              "      <td>0.161332</td>\n",
              "      <td>2.364724</td>\n",
              "      <td>4523.0</td>\n",
              "      <td>146249.0</td>\n",
              "      <td>0.101568</td>\n",
              "      <td>13.351718</td>\n",
              "      <td>0.0</td>\n",
              "      <td>11.0</td>\n",
              "      <td>regionais</td>\n",
              "    </tr>\n",
              "    <tr>\n",
              "      <th>/algar-telecom/algar-telecom-celular</th>\n",
              "      <td>1518.0</td>\n",
              "      <td>40557</td>\n",
              "      <td>0.131910</td>\n",
              "      <td>15.914198</td>\n",
              "      <td>2468.0</td>\n",
              "      <td>13159.0</td>\n",
              "      <td>0.023319</td>\n",
              "      <td>21.083360</td>\n",
              "      <td>28.0</td>\n",
              "      <td>11.0</td>\n",
              "      <td>regionais</td>\n",
              "    </tr>\n",
              "    <tr>\n",
              "      <th>/algar-telecom/algar-telecom-internet</th>\n",
              "      <td>884.0</td>\n",
              "      <td>60153</td>\n",
              "      <td>0.011151</td>\n",
              "      <td>12.242470</td>\n",
              "      <td>85.0</td>\n",
              "      <td>19531.0</td>\n",
              "      <td>0.050535</td>\n",
              "      <td>21.614295</td>\n",
              "      <td>91.0</td>\n",
              "      <td>65.0</td>\n",
              "      <td>regionais</td>\n",
              "    </tr>\n",
              "  </tbody>\n",
              "</table>\n",
              "</div>"
            ],
            "text/plain": [
              "                                       clicks  ...       silo\n",
              "url                                            ...           \n",
              "/agtnet                                 256.0  ...  regionais\n",
              "/algar-telecom                            1.0  ...  regionais\n",
              "/algar-telecom/algar-telecom-2-via      850.0  ...  regionais\n",
              "/algar-telecom/algar-telecom-celular   1518.0  ...  regionais\n",
              "/algar-telecom/algar-telecom-internet   884.0  ...  regionais\n",
              "\n",
              "[5 rows x 11 columns]"
            ]
          },
          "metadata": {},
          "execution_count": 388
        }
      ]
    },
    {
      "cell_type": "code",
      "metadata": {
        "id": "tM7dsiaPSuzW"
      },
      "source": [
        "# lendo a segunda aba da planilha e colocando a coluna url como indice\n",
        "df1 = pd.read_excel(\"/content/Desafio Análise de Dados e SEO Melhor Plano (1).xlsx\",sheet_name=\"funil\", index_col='url')"
      ],
      "execution_count": null,
      "outputs": []
    },
    {
      "cell_type": "code",
      "metadata": {
        "colab": {
          "base_uri": "https://localhost:8080/",
          "height": 237
        },
        "id": "DWbmSFoOS8wi",
        "outputId": "fbbe031c-c72c-4c4a-a334-c752bfba021b"
      },
      "source": [
        "#verificando o arquivo lido\n",
        "df1.head()"
      ],
      "execution_count": null,
      "outputs": [
        {
          "output_type": "execute_result",
          "data": {
            "text/html": [
              "<div>\n",
              "<style scoped>\n",
              "    .dataframe tbody tr th:only-of-type {\n",
              "        vertical-align: middle;\n",
              "    }\n",
              "\n",
              "    .dataframe tbody tr th {\n",
              "        vertical-align: top;\n",
              "    }\n",
              "\n",
              "    .dataframe thead th {\n",
              "        text-align: right;\n",
              "    }\n",
              "</style>\n",
              "<table border=\"1\" class=\"dataframe\">\n",
              "  <thead>\n",
              "    <tr style=\"text-align: right;\">\n",
              "      <th></th>\n",
              "      <th>funil</th>\n",
              "    </tr>\n",
              "    <tr>\n",
              "      <th>url</th>\n",
              "      <th></th>\n",
              "    </tr>\n",
              "  </thead>\n",
              "  <tbody>\n",
              "    <tr>\n",
              "      <th>/agtnet</th>\n",
              "      <td>fundo</td>\n",
              "    </tr>\n",
              "    <tr>\n",
              "      <th>/algar-telecom</th>\n",
              "      <td>meio</td>\n",
              "    </tr>\n",
              "    <tr>\n",
              "      <th>/algar-telecom/algar-telecom-2-via</th>\n",
              "      <td>topo</td>\n",
              "    </tr>\n",
              "    <tr>\n",
              "      <th>/algar-telecom/algar-telecom-celular</th>\n",
              "      <td>fundo</td>\n",
              "    </tr>\n",
              "    <tr>\n",
              "      <th>/algar-telecom/algar-telecom-internet</th>\n",
              "      <td>fundo</td>\n",
              "    </tr>\n",
              "  </tbody>\n",
              "</table>\n",
              "</div>"
            ],
            "text/plain": [
              "                                       funil\n",
              "url                                         \n",
              "/agtnet                                fundo\n",
              "/algar-telecom                          meio\n",
              "/algar-telecom/algar-telecom-2-via      topo\n",
              "/algar-telecom/algar-telecom-celular   fundo\n",
              "/algar-telecom/algar-telecom-internet  fundo"
            ]
          },
          "metadata": {},
          "execution_count": 390
        }
      ]
    },
    {
      "cell_type": "code",
      "metadata": {
        "id": "YjVnVpM4T7PR"
      },
      "source": [
        "#unindo colunas urls com mesmo indice  das abas urls e funil\n",
        "dffinal = pd.merge(df, df1, on='url')"
      ],
      "execution_count": null,
      "outputs": []
    },
    {
      "cell_type": "code",
      "metadata": {
        "colab": {
          "base_uri": "https://localhost:8080/",
          "height": 396
        },
        "id": "qi5DRii9V_AS",
        "outputId": "7f5c2ec3-cedf-4107-885e-16532f3a2975"
      },
      "source": [
        "#verificando a uniao das abas\n",
        "dffinal.head()"
      ],
      "execution_count": null,
      "outputs": [
        {
          "output_type": "execute_result",
          "data": {
            "text/html": [
              "<div>\n",
              "<style scoped>\n",
              "    .dataframe tbody tr th:only-of-type {\n",
              "        vertical-align: middle;\n",
              "    }\n",
              "\n",
              "    .dataframe tbody tr th {\n",
              "        vertical-align: top;\n",
              "    }\n",
              "\n",
              "    .dataframe thead th {\n",
              "        text-align: right;\n",
              "    }\n",
              "</style>\n",
              "<table border=\"1\" class=\"dataframe\">\n",
              "  <thead>\n",
              "    <tr style=\"text-align: right;\">\n",
              "      <th></th>\n",
              "      <th>clicks</th>\n",
              "      <th>impressions</th>\n",
              "      <th>ctr</th>\n",
              "      <th>position</th>\n",
              "      <th>clicks_previous</th>\n",
              "      <th>impressions_previous</th>\n",
              "      <th>ctr_previous</th>\n",
              "      <th>position_previous</th>\n",
              "      <th>clickoffs_previous</th>\n",
              "      <th>clickoffs</th>\n",
              "      <th>silo</th>\n",
              "      <th>funil</th>\n",
              "    </tr>\n",
              "    <tr>\n",
              "      <th>url</th>\n",
              "      <th></th>\n",
              "      <th></th>\n",
              "      <th></th>\n",
              "      <th></th>\n",
              "      <th></th>\n",
              "      <th></th>\n",
              "      <th></th>\n",
              "      <th></th>\n",
              "      <th></th>\n",
              "      <th></th>\n",
              "      <th></th>\n",
              "      <th></th>\n",
              "    </tr>\n",
              "  </thead>\n",
              "  <tbody>\n",
              "    <tr>\n",
              "      <th>/agtnet</th>\n",
              "      <td>256.0</td>\n",
              "      <td>840</td>\n",
              "      <td>0.035881</td>\n",
              "      <td>6.534267</td>\n",
              "      <td>242.0</td>\n",
              "      <td>33217.0</td>\n",
              "      <td>0.044211</td>\n",
              "      <td>22.166461</td>\n",
              "      <td>30.0</td>\n",
              "      <td>204.0</td>\n",
              "      <td>regionais</td>\n",
              "      <td>fundo</td>\n",
              "    </tr>\n",
              "    <tr>\n",
              "      <th>/algar-telecom</th>\n",
              "      <td>1.0</td>\n",
              "      <td>3215</td>\n",
              "      <td>0.007190</td>\n",
              "      <td>54.522420</td>\n",
              "      <td>13.0</td>\n",
              "      <td>7416.0</td>\n",
              "      <td>0.000226</td>\n",
              "      <td>9.394839</td>\n",
              "      <td>NaN</td>\n",
              "      <td>NaN</td>\n",
              "      <td>regionais</td>\n",
              "      <td>meio</td>\n",
              "    </tr>\n",
              "    <tr>\n",
              "      <th>/algar-telecom/algar-telecom-2-via</th>\n",
              "      <td>850.0</td>\n",
              "      <td>16462</td>\n",
              "      <td>0.161332</td>\n",
              "      <td>2.364724</td>\n",
              "      <td>4523.0</td>\n",
              "      <td>146249.0</td>\n",
              "      <td>0.101568</td>\n",
              "      <td>13.351718</td>\n",
              "      <td>0.0</td>\n",
              "      <td>11.0</td>\n",
              "      <td>regionais</td>\n",
              "      <td>topo</td>\n",
              "    </tr>\n",
              "    <tr>\n",
              "      <th>/algar-telecom/algar-telecom-celular</th>\n",
              "      <td>1518.0</td>\n",
              "      <td>40557</td>\n",
              "      <td>0.131910</td>\n",
              "      <td>15.914198</td>\n",
              "      <td>2468.0</td>\n",
              "      <td>13159.0</td>\n",
              "      <td>0.023319</td>\n",
              "      <td>21.083360</td>\n",
              "      <td>28.0</td>\n",
              "      <td>11.0</td>\n",
              "      <td>regionais</td>\n",
              "      <td>fundo</td>\n",
              "    </tr>\n",
              "    <tr>\n",
              "      <th>/algar-telecom/algar-telecom-internet</th>\n",
              "      <td>884.0</td>\n",
              "      <td>60153</td>\n",
              "      <td>0.011151</td>\n",
              "      <td>12.242470</td>\n",
              "      <td>85.0</td>\n",
              "      <td>19531.0</td>\n",
              "      <td>0.050535</td>\n",
              "      <td>21.614295</td>\n",
              "      <td>91.0</td>\n",
              "      <td>65.0</td>\n",
              "      <td>regionais</td>\n",
              "      <td>fundo</td>\n",
              "    </tr>\n",
              "  </tbody>\n",
              "</table>\n",
              "</div>"
            ],
            "text/plain": [
              "                                       clicks  impressions  ...       silo  funil\n",
              "url                                                         ...                  \n",
              "/agtnet                                 256.0          840  ...  regionais  fundo\n",
              "/algar-telecom                            1.0         3215  ...  regionais   meio\n",
              "/algar-telecom/algar-telecom-2-via      850.0        16462  ...  regionais   topo\n",
              "/algar-telecom/algar-telecom-celular   1518.0        40557  ...  regionais  fundo\n",
              "/algar-telecom/algar-telecom-internet   884.0        60153  ...  regionais  fundo\n",
              "\n",
              "[5 rows x 12 columns]"
            ]
          },
          "metadata": {},
          "execution_count": 392
        }
      ]
    },
    {
      "cell_type": "code",
      "metadata": {
        "colab": {
          "base_uri": "https://localhost:8080/",
          "height": 272
        },
        "id": "FhMC_SmNWJdO",
        "outputId": "4c0ae177-d08c-4971-d204-d7237651b402"
      },
      "source": [
        "# verificando ultimas linhas da uniao das abas\n",
        "df.tail()"
      ],
      "execution_count": null,
      "outputs": [
        {
          "output_type": "execute_result",
          "data": {
            "text/html": [
              "<div>\n",
              "<style scoped>\n",
              "    .dataframe tbody tr th:only-of-type {\n",
              "        vertical-align: middle;\n",
              "    }\n",
              "\n",
              "    .dataframe tbody tr th {\n",
              "        vertical-align: top;\n",
              "    }\n",
              "\n",
              "    .dataframe thead th {\n",
              "        text-align: right;\n",
              "    }\n",
              "</style>\n",
              "<table border=\"1\" class=\"dataframe\">\n",
              "  <thead>\n",
              "    <tr style=\"text-align: right;\">\n",
              "      <th></th>\n",
              "      <th>clicks</th>\n",
              "      <th>impressions</th>\n",
              "      <th>ctr</th>\n",
              "      <th>position</th>\n",
              "      <th>clicks_previous</th>\n",
              "      <th>impressions_previous</th>\n",
              "      <th>ctr_previous</th>\n",
              "      <th>position_previous</th>\n",
              "      <th>clickoffs_previous</th>\n",
              "      <th>clickoffs</th>\n",
              "      <th>silo</th>\n",
              "    </tr>\n",
              "    <tr>\n",
              "      <th>url</th>\n",
              "      <th></th>\n",
              "      <th></th>\n",
              "      <th></th>\n",
              "      <th></th>\n",
              "      <th></th>\n",
              "      <th></th>\n",
              "      <th></th>\n",
              "      <th></th>\n",
              "      <th></th>\n",
              "      <th></th>\n",
              "      <th></th>\n",
              "    </tr>\n",
              "  </thead>\n",
              "  <tbody>\n",
              "    <tr>\n",
              "      <th>/vivo/vivo-play</th>\n",
              "      <td>96.0</td>\n",
              "      <td>75251</td>\n",
              "      <td>0.000912</td>\n",
              "      <td>3.830045</td>\n",
              "      <td>257.0</td>\n",
              "      <td>47270.0</td>\n",
              "      <td>0.000280</td>\n",
              "      <td>3.454239</td>\n",
              "      <td>11.0</td>\n",
              "      <td>20.0</td>\n",
              "      <td>vivo</td>\n",
              "    </tr>\n",
              "    <tr>\n",
              "      <th>/vivo/vivo-regulariza</th>\n",
              "      <td>632.0</td>\n",
              "      <td>217276</td>\n",
              "      <td>0.003360</td>\n",
              "      <td>23.539364</td>\n",
              "      <td>2612.0</td>\n",
              "      <td>1155041.0</td>\n",
              "      <td>0.014672</td>\n",
              "      <td>30.243668</td>\n",
              "      <td>153.0</td>\n",
              "      <td>72.0</td>\n",
              "      <td>vivo</td>\n",
              "    </tr>\n",
              "    <tr>\n",
              "      <th>/vivo/vivo-sac</th>\n",
              "      <td>2828.0</td>\n",
              "      <td>833525</td>\n",
              "      <td>0.006707</td>\n",
              "      <td>0.792724</td>\n",
              "      <td>5849.0</td>\n",
              "      <td>703865.0</td>\n",
              "      <td>0.021006</td>\n",
              "      <td>13.094713</td>\n",
              "      <td>80.0</td>\n",
              "      <td>29.0</td>\n",
              "      <td>vivo</td>\n",
              "    </tr>\n",
              "    <tr>\n",
              "      <th>/vivo/vivo-tv</th>\n",
              "      <td>228.0</td>\n",
              "      <td>28749</td>\n",
              "      <td>0.004802</td>\n",
              "      <td>19.790026</td>\n",
              "      <td>65.0</td>\n",
              "      <td>96910.0</td>\n",
              "      <td>0.006878</td>\n",
              "      <td>39.781625</td>\n",
              "      <td>74.0</td>\n",
              "      <td>151.0</td>\n",
              "      <td>vivo</td>\n",
              "    </tr>\n",
              "    <tr>\n",
              "      <th>/vivo/vivo-tv/canais-vivo-tv</th>\n",
              "      <td>3844.0</td>\n",
              "      <td>127504</td>\n",
              "      <td>0.051808</td>\n",
              "      <td>24.595550</td>\n",
              "      <td>1393.0</td>\n",
              "      <td>231501.0</td>\n",
              "      <td>0.095593</td>\n",
              "      <td>33.733817</td>\n",
              "      <td>115.0</td>\n",
              "      <td>154.0</td>\n",
              "      <td>vivo</td>\n",
              "    </tr>\n",
              "  </tbody>\n",
              "</table>\n",
              "</div>"
            ],
            "text/plain": [
              "                              clicks  impressions  ...  clickoffs  silo\n",
              "url                                                ...                 \n",
              "/vivo/vivo-play                 96.0        75251  ...       20.0  vivo\n",
              "/vivo/vivo-regulariza          632.0       217276  ...       72.0  vivo\n",
              "/vivo/vivo-sac                2828.0       833525  ...       29.0  vivo\n",
              "/vivo/vivo-tv                  228.0        28749  ...      151.0  vivo\n",
              "/vivo/vivo-tv/canais-vivo-tv  3844.0       127504  ...      154.0  vivo\n",
              "\n",
              "[5 rows x 11 columns]"
            ]
          },
          "metadata": {},
          "execution_count": 393
        }
      ]
    },
    {
      "cell_type": "code",
      "metadata": {
        "colab": {
          "base_uri": "https://localhost:8080/"
        },
        "id": "s8nviHWxWN6K",
        "outputId": "ffe4fc82-065c-417b-f03f-eaacd3f2d47c"
      },
      "source": [
        "#verificando quantas linhas possuem valores nulos para uma posterior analise ou insercao de media nessas linhas\n",
        "dffinal.isnull().sum()"
      ],
      "execution_count": null,
      "outputs": [
        {
          "output_type": "execute_result",
          "data": {
            "text/plain": [
              "clicks                   28\n",
              "impressions               0\n",
              "ctr                      28\n",
              "position                  0\n",
              "clicks_previous          36\n",
              "impressions_previous      8\n",
              "ctr_previous             36\n",
              "position_previous         8\n",
              "clickoffs_previous      291\n",
              "clickoffs               280\n",
              "silo                      3\n",
              "funil                     5\n",
              "dtype: int64"
            ]
          },
          "metadata": {},
          "execution_count": 394
        }
      ]
    },
    {
      "cell_type": "code",
      "metadata": {
        "colab": {
          "base_uri": "https://localhost:8080/"
        },
        "id": "rtTG2fpzWUas",
        "outputId": "055dd8ec-e6bf-499d-c253-d5945df21dbd"
      },
      "source": [
        "#verificando os tipos de dados da colunas\n",
        "dffinal.info()"
      ],
      "execution_count": null,
      "outputs": [
        {
          "output_type": "stream",
          "name": "stdout",
          "text": [
            "<class 'pandas.core.frame.DataFrame'>\n",
            "Index: 929 entries, /agtnet to /vivo/vivo-tv/canais-vivo-tv\n",
            "Data columns (total 12 columns):\n",
            " #   Column                Non-Null Count  Dtype  \n",
            "---  ------                --------------  -----  \n",
            " 0   clicks                901 non-null    float64\n",
            " 1   impressions           929 non-null    int64  \n",
            " 2   ctr                   901 non-null    float64\n",
            " 3   position              929 non-null    float64\n",
            " 4   clicks_previous       893 non-null    float64\n",
            " 5   impressions_previous  921 non-null    float64\n",
            " 6   ctr_previous          893 non-null    float64\n",
            " 7   position_previous     921 non-null    float64\n",
            " 8   clickoffs_previous    638 non-null    float64\n",
            " 9   clickoffs             649 non-null    float64\n",
            " 10  silo                  926 non-null    object \n",
            " 11  funil                 924 non-null    object \n",
            "dtypes: float64(9), int64(1), object(2)\n",
            "memory usage: 94.4+ KB\n"
          ]
        }
      ]
    },
    {
      "cell_type": "code",
      "metadata": {
        "colab": {
          "base_uri": "https://localhost:8080/"
        },
        "id": "P4E6NmklWYsC",
        "outputId": "e61f4c41-e5da-4b13-f39c-2fe3c4737523"
      },
      "source": [
        "# Quantos silos existem na base de dado? = 11\n",
        "len(df.groupby(by='silo',sort=True).size())"
      ],
      "execution_count": null,
      "outputs": [
        {
          "output_type": "execute_result",
          "data": {
            "text/plain": [
              "11"
            ]
          },
          "metadata": {},
          "execution_count": 396
        }
      ]
    },
    {
      "cell_type": "code",
      "metadata": {
        "colab": {
          "base_uri": "https://localhost:8080/"
        },
        "id": "oAbhCHUmWbxq",
        "outputId": "ed39bb57-528e-4d66-9342-4d6fcf4c4e9b"
      },
      "source": [
        "# Mostrando os nomes de silos existentes na base?\n",
        "df.groupby(by='silo',sort=True).size()"
      ],
      "execution_count": null,
      "outputs": [
        {
          "output_type": "execute_result",
          "data": {
            "text/plain": [
              "silo\n",
              "claro                     117\n",
              "genérico topo de funil      6\n",
              "nextel                     45\n",
              "oi                        103\n",
              "planos de celular          20\n",
              "regionais                  41\n",
              "residencial                99\n",
              "sky                        59\n",
              "telco genérico            207\n",
              "tim                       108\n",
              "vivo                      121\n",
              "dtype: int64"
            ]
          },
          "metadata": {},
          "execution_count": 397
        }
      ]
    },
    {
      "cell_type": "code",
      "metadata": {
        "colab": {
          "base_uri": "https://localhost:8080/"
        },
        "id": "W5czGJGRWpSj",
        "outputId": "60f7022a-5d32-400a-9479-34d5ef15d325"
      },
      "source": [
        "# Qual o silo com mais trafego organico? = VIVO com um trafego de 195624\n",
        "df.groupby('silo')['clicks'].sum().nlargest(1)"
      ],
      "execution_count": null,
      "outputs": [
        {
          "output_type": "execute_result",
          "data": {
            "text/plain": [
              "silo\n",
              "vivo    195624.0\n",
              "Name: clicks, dtype: float64"
            ]
          },
          "metadata": {},
          "execution_count": 398
        }
      ]
    },
    {
      "cell_type": "code",
      "metadata": {
        "colab": {
          "base_uri": "https://localhost:8080/"
        },
        "id": "H2Y_-BTqWvea",
        "outputId": "4ce598f8-fc29-49c3-99e1-eeabdbf8ee4a"
      },
      "source": [
        "#Qual silo teve o maior ganho de trafego organico no periodo analisado? \n",
        "#Nenhum silo obteve ganhos significativos.\n",
        "df.groupby('silo')['clicks'].sum().nlargest(11) - df.groupby('silo')['clicks_previous'].sum().nlargest(11)\n"
      ],
      "execution_count": null,
      "outputs": [
        {
          "output_type": "execute_result",
          "data": {
            "text/plain": [
              "silo\n",
              "claro                     -77824.0\n",
              "genérico topo de funil     -1369.0\n",
              "nextel                     -9291.0\n",
              "oi                        -96060.0\n",
              "planos de celular         -21921.0\n",
              "regionais                 -23232.0\n",
              "residencial               -31663.0\n",
              "sky                       -43731.0\n",
              "telco genérico           -187372.0\n",
              "tim                       -59649.0\n",
              "vivo                     -104843.0\n",
              "dtype: float64"
            ]
          },
          "metadata": {},
          "execution_count": 399
        }
      ]
    },
    {
      "cell_type": "code",
      "metadata": {
        "colab": {
          "base_uri": "https://localhost:8080/"
        },
        "id": "VUtR2aZSqTZw",
        "outputId": "77130f86-d7a8-4c89-d975-090f7d525793"
      },
      "source": [
        "#Qual silo teve o maior ganho de trafego organico no periodo analisado? \n",
        "#Em contrapartida o que teve uma menor perca de acordo com a porcentagem abaixo foi (genérico topo de funil 10,52%)(telco genérico 49,21%)\n",
        "df.groupby('silo')['clicks'].sum().nlargest(11) / df.groupby('silo')['clicks_previous'].sum().nlargest(11)"
      ],
      "execution_count": null,
      "outputs": [
        {
          "output_type": "execute_result",
          "data": {
            "text/plain": [
              "silo\n",
              "claro                     0.651478\n",
              "genérico topo de funil    0.105229\n",
              "nextel                    0.878551\n",
              "oi                        0.613588\n",
              "planos de celular         0.628174\n",
              "regionais                 0.519295\n",
              "residencial               0.812571\n",
              "sky                       0.554079\n",
              "telco genérico            0.492166\n",
              "tim                       0.574413\n",
              "vivo                      0.651067\n",
              "dtype: float64"
            ]
          },
          "metadata": {},
          "execution_count": 238
        }
      ]
    },
    {
      "cell_type": "code",
      "metadata": {
        "id": "pD8jYMrt3vHW"
      },
      "source": [
        "#Agrupando as colunas url, funil, ctr\n",
        "df2 = dffinal.groupby(by=['url', 'funil', 'ctr']).size()"
      ],
      "execution_count": null,
      "outputs": []
    },
    {
      "cell_type": "code",
      "metadata": {
        "id": "XnKn98OUdKqT"
      },
      "source": [
        "#tranformando em um Dataframe\n",
        "df = pd.DataFrame(df2)\n"
      ],
      "execution_count": null,
      "outputs": []
    },
    {
      "cell_type": "code",
      "metadata": {
        "colab": {
          "base_uri": "https://localhost:8080/"
        },
        "id": "XRiaTGaP1PcF",
        "outputId": "d1ca1f71-810d-49bf-b0f2-4907f8ec3a02"
      },
      "source": [
        "#verificando o tipo da coluna\n",
        "df.info()"
      ],
      "execution_count": null,
      "outputs": [
        {
          "output_type": "stream",
          "name": "stdout",
          "text": [
            "<class 'pandas.core.frame.DataFrame'>\n",
            "MultiIndex: 896 entries, ('/agtnet', 'fundo', 0.035880964994016676) to ('/vivo/vivo-tv/canais-vivo-tv', 'meio', 0.05180789042503062)\n",
            "Data columns (total 1 columns):\n",
            " #   Column  Non-Null Count  Dtype\n",
            "---  ------  --------------  -----\n",
            " 0   0       896 non-null    int64\n",
            "dtypes: int64(1)\n",
            "memory usage: 25.8+ KB\n"
          ]
        }
      ]
    },
    {
      "cell_type": "code",
      "metadata": {
        "colab": {
          "base_uri": "https://localhost:8080/",
          "height": 237
        },
        "id": "h3BSwYl5gbvM",
        "outputId": "a46bf155-c2d0-4b98-bd05-949885e72659"
      },
      "source": [
        "#5 URLs que potencialmente tem um problema?\n",
        "# As 5 urls listadas abaixo possivelmente tem problemas, pois como podemos... \n",
        "#...indentificar o ctr das mesmas estào acima da média e são os mais altos \n",
        "#...de uma pagina topo de funil e com isso tende a receber menas visitas.\n",
        "df.query('funil==\"topo\" & ctr >= 0.3').head()"
      ],
      "execution_count": null,
      "outputs": [
        {
          "output_type": "execute_result",
          "data": {
            "text/html": [
              "<div>\n",
              "<style scoped>\n",
              "    .dataframe tbody tr th:only-of-type {\n",
              "        vertical-align: middle;\n",
              "    }\n",
              "\n",
              "    .dataframe tbody tr th {\n",
              "        vertical-align: top;\n",
              "    }\n",
              "\n",
              "    .dataframe thead th {\n",
              "        text-align: right;\n",
              "    }\n",
              "</style>\n",
              "<table border=\"1\" class=\"dataframe\">\n",
              "  <thead>\n",
              "    <tr style=\"text-align: right;\">\n",
              "      <th></th>\n",
              "      <th></th>\n",
              "      <th></th>\n",
              "      <th>0</th>\n",
              "    </tr>\n",
              "    <tr>\n",
              "      <th>url</th>\n",
              "      <th>funil</th>\n",
              "      <th>ctr</th>\n",
              "      <th></th>\n",
              "    </tr>\n",
              "  </thead>\n",
              "  <tbody>\n",
              "    <tr>\n",
              "      <th>/blog/4-casos-de-sucesso-para-te-inspirar-a-economizar/</th>\n",
              "      <th>topo</th>\n",
              "      <th>2.573431</th>\n",
              "      <td>1</td>\n",
              "    </tr>\n",
              "    <tr>\n",
              "      <th>/blog/7-filmes-sobre-financas-para-inspirar/</th>\n",
              "      <th>topo</th>\n",
              "      <th>0.411101</th>\n",
              "      <td>1</td>\n",
              "    </tr>\n",
              "    <tr>\n",
              "      <th>/blog/desativar-caixa-postal-claro/</th>\n",
              "      <th>topo</th>\n",
              "      <th>0.350335</th>\n",
              "      <td>1</td>\n",
              "    </tr>\n",
              "    <tr>\n",
              "      <th>/blog/dicas-para-economizar-todo-mes-no-seu-plano/</th>\n",
              "      <th>topo</th>\n",
              "      <th>0.739994</th>\n",
              "      <td>1</td>\n",
              "    </tr>\n",
              "    <tr>\n",
              "      <th>/blog/planejamento-financeiro-durante-a-crise/</th>\n",
              "      <th>topo</th>\n",
              "      <th>2.613768</th>\n",
              "      <td>1</td>\n",
              "    </tr>\n",
              "  </tbody>\n",
              "</table>\n",
              "</div>"
            ],
            "text/plain": [
              "                                                                   0\n",
              "url                                                funil ctr        \n",
              "/blog/4-casos-de-sucesso-para-te-inspirar-a-eco... topo  2.573431  1\n",
              "/blog/7-filmes-sobre-financas-para-inspirar/       topo  0.411101  1\n",
              "/blog/desativar-caixa-postal-claro/                topo  0.350335  1\n",
              "/blog/dicas-para-economizar-todo-mes-no-seu-plano/ topo  0.739994  1\n",
              "/blog/planejamento-financeiro-durante-a-crise/     topo  2.613768  1"
            ]
          },
          "metadata": {},
          "execution_count": 371
        }
      ]
    },
    {
      "cell_type": "code",
      "metadata": {
        "colab": {
          "base_uri": "https://localhost:8080/",
          "height": 237
        },
        "id": "yARZk7np-4vu",
        "outputId": "9da67b7d-8555-4fe6-f287-5086aad70e16"
      },
      "source": [
        "#5 URLs que estao com uma taxa de conversao pior?\n",
        "# As 5 urls listadas abaixo sao as que possui um ctr muito ruim... \n",
        "#...porem elas estao no fundo do funil com isso a probabilidade de receber visitas e bem alta \n",
        "df.query('funil==\"fundo\" & ctr >= 0.5').head()"
      ],
      "execution_count": null,
      "outputs": [
        {
          "output_type": "execute_result",
          "data": {
            "text/html": [
              "<div>\n",
              "<style scoped>\n",
              "    .dataframe tbody tr th:only-of-type {\n",
              "        vertical-align: middle;\n",
              "    }\n",
              "\n",
              "    .dataframe tbody tr th {\n",
              "        vertical-align: top;\n",
              "    }\n",
              "\n",
              "    .dataframe thead th {\n",
              "        text-align: right;\n",
              "    }\n",
              "</style>\n",
              "<table border=\"1\" class=\"dataframe\">\n",
              "  <thead>\n",
              "    <tr style=\"text-align: right;\">\n",
              "      <th></th>\n",
              "      <th></th>\n",
              "      <th></th>\n",
              "      <th>0</th>\n",
              "    </tr>\n",
              "    <tr>\n",
              "      <th>url</th>\n",
              "      <th>funil</th>\n",
              "      <th>ctr</th>\n",
              "      <th></th>\n",
              "    </tr>\n",
              "  </thead>\n",
              "  <tbody>\n",
              "    <tr>\n",
              "      <th>/blog/smartimao/</th>\n",
              "      <th>fundo</th>\n",
              "      <th>0.554661</th>\n",
              "      <td>1</td>\n",
              "    </tr>\n",
              "    <tr>\n",
              "      <th>/blog/tim-pre-top/</th>\n",
              "      <th>fundo</th>\n",
              "      <th>1.356636</th>\n",
              "      <td>1</td>\n",
              "    </tr>\n",
              "    <tr>\n",
              "      <th>/blog/voce-sabe-quais-as-melhores-e-piores-operadoras-de-telefonia-confira-pesquisa-da-anatel/</th>\n",
              "      <th>fundo</th>\n",
              "      <th>1.694462</th>\n",
              "      <td>1</td>\n",
              "    </tr>\n",
              "    <tr>\n",
              "      <th>/tim/planos-tim/promocoes-tim-controle</th>\n",
              "      <th>fundo</th>\n",
              "      <th>1.122477</th>\n",
              "      <td>1</td>\n",
              "    </tr>\n",
              "    <tr>\n",
              "      <th>/tim/planos-tim/tim-pos-familia</th>\n",
              "      <th>fundo</th>\n",
              "      <th>0.842192</th>\n",
              "      <td>1</td>\n",
              "    </tr>\n",
              "  </tbody>\n",
              "</table>\n",
              "</div>"
            ],
            "text/plain": [
              "                                                                   0\n",
              "url                                                funil ctr        \n",
              "/blog/smartimao/                                   fundo 0.554661  1\n",
              "/blog/tim-pre-top/                                 fundo 1.356636  1\n",
              "/blog/voce-sabe-quais-as-melhores-e-piores-oper... fundo 1.694462  1\n",
              "/tim/planos-tim/promocoes-tim-controle             fundo 1.122477  1\n",
              "/tim/planos-tim/tim-pos-familia                    fundo 0.842192  1"
            ]
          },
          "metadata": {},
          "execution_count": 381
        }
      ]
    },
    {
      "cell_type": "code",
      "metadata": {
        "colab": {
          "base_uri": "https://localhost:8080/"
        },
        "id": "XXN-XjAIHcqe",
        "outputId": "94a3e1a7-0031-4f98-f70a-8d8e052852b7"
      },
      "source": [
        "#Liste outras 5 que estão com CTR muito melhor que o esperado. Justifique sua resposta.\n",
        "#A lista abaixo contem as urls que obteve maior ctr do que havia computado antes durante o periodo\n",
        "df.groupby('url')['ctr'].sum().nlargest() - df.groupby('url')['ctr_previous'].sum().nlargest()"
      ],
      "execution_count": null,
      "outputs": [
        {
          "output_type": "execute_result",
          "data": {
            "text/plain": [
              "url\n",
              "/blog/4-casos-de-sucesso-para-te-inspirar-a-economizar/                                                NaN\n",
              "/blog/controlar-conta-de-celular/                                                                      NaN\n",
              "/blog/planejamento-financeiro-durante-a-crise/                                                         NaN\n",
              "/blog/tim-pre-top/                                                                               -0.036690\n",
              "/blog/voce-sabe-quais-as-melhores-e-piores-operadoras-de-telefonia-confira-pesquisa-da-anatel/   -1.435092\n",
              "/parcerias                                                                                             NaN\n",
              "/sky/sky-internet/internet-rural-sky                                                                   NaN\n",
              "/tim/planos-tim/promocoes-tim-controle                                                                 NaN\n",
              "dtype: float64"
            ]
          },
          "metadata": {},
          "execution_count": 413
        }
      ]
    }
  ]
}